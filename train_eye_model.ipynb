{
 "cells": [
  {
   "cell_type": "code",
   "execution_count": 1,
   "metadata": {},
   "outputs": [],
   "source": [
    "import os\n",
    "from keras.models import Sequential\n",
    "from keras.layers import Conv2D\n",
    "from keras.layers import AveragePooling2D, MaxPooling2D\n",
    "from keras.layers import Flatten\n",
    "from keras.layers import Dense\n",
    "from keras.models import model_from_json\n",
    "from keras.preprocessing.image import ImageDataGenerator"
   ]
  },
  {
   "cell_type": "code",
   "execution_count": 8,
   "metadata": {},
   "outputs": [
    {
     "name": "stdout",
     "output_type": "stream",
     "text": [
      "Found 3779 images belonging to 2 classes.\n",
      "Found 1067 images belonging to 2 classes.\n"
     ]
    }
   ],
   "source": [
    "IMG_SIZE = 24\n",
    "datagen = ImageDataGenerator(rescale=1./255, shear_range=0.2, horizontal_flip=True)\n",
    "train_generator = datagen.flow_from_directory(directory=\"eye_dataset/train\",target_size=(IMG_SIZE, IMG_SIZE), color_mode=\"grayscale\", batch_size=32, class_mode=\"binary\",shuffle=True,seed=42)\n",
    "val_generator = datagen.flow_from_directory(directory=\"eye_dataset/val\", target_size=(IMG_SIZE, IMG_SIZE), color_mode=\"grayscale\",batch_size=32,class_mode=\"binary\", shuffle=True, seed=42)"
   ]
  },
  {
   "cell_type": "code",
   "execution_count": 15,
   "metadata": {},
   "outputs": [],
   "source": [
    "def train(train_generator, val_generator):\n",
    "    STEP_SIZE_TRAIN=train_generator.n//train_generator.batch_size\n",
    "    STEP_SIZE_VALID=val_generator.n//val_generator.batch_size\n",
    "\n",
    "    print('[LOG] Intialize Neural Network')\n",
    "\n",
    "    model = Sequential()\n",
    "\n",
    "    model.add(Conv2D(filters=6, kernel_size=(3, 3), activation='relu', input_shape=(IMG_SIZE,IMG_SIZE,1)))\n",
    "    model.add(MaxPooling2D())\n",
    "\n",
    "    model.add(Conv2D(filters=16, kernel_size=(3, 3), activation='relu'))\n",
    "    model.add(MaxPooling2D())\n",
    "\n",
    "    model.add(Conv2D(filters=32, kernel_size=(3, 3), activation='relu'))\n",
    "    model.add(MaxPooling2D())\n",
    "\n",
    "    model.add(Flatten())\n",
    "\n",
    "    model.add(Dense(units=120, activation='relu'))\n",
    "\n",
    "    model.add(Dense(units=84, activation='relu'))\n",
    "\n",
    "    model.add(Dense(units=1, activation = 'sigmoid'))\n",
    "\n",
    "\n",
    "    model.compile(loss='binary_crossentropy', optimizer='adam', metrics=['accuracy'])\n",
    "\n",
    "    model.fit_generator(generator=train_generator,\n",
    "                    steps_per_epoch=STEP_SIZE_TRAIN,\n",
    "                    validation_data=val_generator,\n",
    "                    validation_steps=STEP_SIZE_VALID,\n",
    "                    epochs=20\n",
    "    )\n",
    "    \n",
    "    return model"
   ]
  },
  {
   "cell_type": "code",
   "execution_count": 16,
   "metadata": {},
   "outputs": [
    {
     "name": "stdout",
     "output_type": "stream",
     "text": [
      "[LOG] Intialize Neural Network\n",
      "Epoch 1/20\n",
      "WARNING:tensorflow:AutoGraph could not transform <function Model.make_train_function.<locals>.train_function at 0x000001478A1D9318> and will run it as-is.\n",
      "Please report this to the TensorFlow team. When filing the bug, set the verbosity to 10 (on Linux, `export AUTOGRAPH_VERBOSITY=10`) and attach the full output.\n",
      "Cause: 'arguments' object has no attribute 'posonlyargs'\n",
      "To silence this warning, decorate the function with @tf.autograph.experimental.do_not_convert\n",
      "WARNING: AutoGraph could not transform <function Model.make_train_function.<locals>.train_function at 0x000001478A1D9318> and will run it as-is.\n",
      "Please report this to the TensorFlow team. When filing the bug, set the verbosity to 10 (on Linux, `export AUTOGRAPH_VERBOSITY=10`) and attach the full output.\n",
      "Cause: 'arguments' object has no attribute 'posonlyargs'\n",
      "To silence this warning, decorate the function with @tf.autograph.experimental.do_not_convert\n"
     ]
    },
    {
     "name": "stderr",
     "output_type": "stream",
     "text": [
      "C:\\Users\\kopal\\Anaconda3\\lib\\site-packages\\ipykernel_launcher.py:33: UserWarning: `Model.fit_generator` is deprecated and will be removed in a future version. Please use `Model.fit`, which supports generators.\n"
     ]
    },
    {
     "name": "stdout",
     "output_type": "stream",
     "text": [
      "118/118 [==============================] - ETA: 0s - loss: 0.6330 - accuracy: 0.6386WARNING:tensorflow:AutoGraph could not transform <function Model.make_test_function.<locals>.test_function at 0x000001478A6603A8> and will run it as-is.\n",
      "Please report this to the TensorFlow team. When filing the bug, set the verbosity to 10 (on Linux, `export AUTOGRAPH_VERBOSITY=10`) and attach the full output.\n",
      "Cause: 'arguments' object has no attribute 'posonlyargs'\n",
      "To silence this warning, decorate the function with @tf.autograph.experimental.do_not_convert\n",
      "WARNING: AutoGraph could not transform <function Model.make_test_function.<locals>.test_function at 0x000001478A6603A8> and will run it as-is.\n",
      "Please report this to the TensorFlow team. When filing the bug, set the verbosity to 10 (on Linux, `export AUTOGRAPH_VERBOSITY=10`) and attach the full output.\n",
      "Cause: 'arguments' object has no attribute 'posonlyargs'\n",
      "To silence this warning, decorate the function with @tf.autograph.experimental.do_not_convert\n",
      "118/118 [==============================] - 6s 43ms/step - loss: 0.6330 - accuracy: 0.6386 - val_loss: 0.5579 - val_accuracy: 0.7064\n",
      "Epoch 2/20\n",
      "118/118 [==============================] - 5s 40ms/step - loss: 0.4094 - accuracy: 0.8084 - val_loss: 0.2617 - val_accuracy: 0.8949\n",
      "Epoch 3/20\n",
      "118/118 [==============================] - 6s 48ms/step - loss: 0.2122 - accuracy: 0.9149 - val_loss: 0.1938 - val_accuracy: 0.9356\n",
      "Epoch 4/20\n",
      "118/118 [==============================] - 5s 42ms/step - loss: 0.1763 - accuracy: 0.9351 - val_loss: 0.1948 - val_accuracy: 0.9318\n",
      "Epoch 5/20\n",
      "118/118 [==============================] - 5s 41ms/step - loss: 0.1728 - accuracy: 0.9330 - val_loss: 0.1525 - val_accuracy: 0.9517\n",
      "Epoch 6/20\n",
      "118/118 [==============================] - 5s 41ms/step - loss: 0.1545 - accuracy: 0.9426 - val_loss: 0.1729 - val_accuracy: 0.9375\n",
      "Epoch 7/20\n",
      "118/118 [==============================] - 5s 43ms/step - loss: 0.1372 - accuracy: 0.9472 - val_loss: 0.1440 - val_accuracy: 0.9508\n",
      "Epoch 8/20\n",
      "118/118 [==============================] - 5s 43ms/step - loss: 0.1401 - accuracy: 0.9493 - val_loss: 0.1749 - val_accuracy: 0.9413\n",
      "Epoch 9/20\n",
      "118/118 [==============================] - 5s 41ms/step - loss: 0.1255 - accuracy: 0.9526 - val_loss: 0.1619 - val_accuracy: 0.9432\n",
      "Epoch 10/20\n",
      "118/118 [==============================] - 5s 42ms/step - loss: 0.1221 - accuracy: 0.9544 - val_loss: 0.1592 - val_accuracy: 0.9441\n",
      "Epoch 11/20\n",
      "118/118 [==============================] - 5s 41ms/step - loss: 0.1149 - accuracy: 0.9541 - val_loss: 0.1296 - val_accuracy: 0.9517\n",
      "Epoch 12/20\n",
      "118/118 [==============================] - 5s 43ms/step - loss: 0.1143 - accuracy: 0.9581 - val_loss: 0.1378 - val_accuracy: 0.9536\n",
      "Epoch 13/20\n",
      "118/118 [==============================] - 5s 42ms/step - loss: 0.1163 - accuracy: 0.9552 - val_loss: 0.1397 - val_accuracy: 0.9536\n",
      "Epoch 14/20\n",
      "118/118 [==============================] - 5s 39ms/step - loss: 0.1050 - accuracy: 0.9600 - val_loss: 0.1449 - val_accuracy: 0.9527\n",
      "Epoch 15/20\n",
      "118/118 [==============================] - 6s 51ms/step - loss: 0.1269 - accuracy: 0.9512 - val_loss: 0.1325 - val_accuracy: 0.9517\n",
      "Epoch 16/20\n",
      "118/118 [==============================] - 5s 43ms/step - loss: 0.0987 - accuracy: 0.9629 - val_loss: 0.1318 - val_accuracy: 0.9593\n",
      "Epoch 17/20\n",
      "118/118 [==============================] - 5s 41ms/step - loss: 0.1016 - accuracy: 0.9640 - val_loss: 0.1245 - val_accuracy: 0.9583\n",
      "Epoch 18/20\n",
      "118/118 [==============================] - 5s 43ms/step - loss: 0.0893 - accuracy: 0.9677 - val_loss: 0.1340 - val_accuracy: 0.9555\n",
      "Epoch 19/20\n",
      "118/118 [==============================] - 5s 43ms/step - loss: 0.0887 - accuracy: 0.9690 - val_loss: 0.1327 - val_accuracy: 0.9574\n",
      "Epoch 20/20\n",
      "118/118 [==============================] - 8s 64ms/step - loss: 0.0932 - accuracy: 0.9645 - val_loss: 0.1195 - val_accuracy: 0.9536\n"
     ]
    }
   ],
   "source": [
    "model = train(train_generator , val_generator)"
   ]
  },
  {
   "cell_type": "code",
   "execution_count": 18,
   "metadata": {},
   "outputs": [],
   "source": [
    "model.save(\"eye_status_model.h5\")"
   ]
  },
  {
   "cell_type": "code",
   "execution_count": 19,
   "metadata": {},
   "outputs": [
    {
     "name": "stdout",
     "output_type": "stream",
     "text": [
      "Model: \"sequential_2\"\n",
      "_________________________________________________________________\n",
      " Layer (type)                Output Shape              Param #   \n",
      "=================================================================\n",
      " conv2d_6 (Conv2D)           (None, 22, 22, 6)         60        \n",
      "                                                                 \n",
      " max_pooling2d_6 (MaxPooling  (None, 11, 11, 6)        0         \n",
      " 2D)                                                             \n",
      "                                                                 \n",
      " conv2d_7 (Conv2D)           (None, 9, 9, 16)          880       \n",
      "                                                                 \n",
      " max_pooling2d_7 (MaxPooling  (None, 4, 4, 16)         0         \n",
      " 2D)                                                             \n",
      "                                                                 \n",
      " conv2d_8 (Conv2D)           (None, 2, 2, 32)          4640      \n",
      "                                                                 \n",
      " max_pooling2d_8 (MaxPooling  (None, 1, 1, 32)         0         \n",
      " 2D)                                                             \n",
      "                                                                 \n",
      " flatten_2 (Flatten)         (None, 32)                0         \n",
      "                                                                 \n",
      " dense_6 (Dense)             (None, 120)               3960      \n",
      "                                                                 \n",
      " dense_7 (Dense)             (None, 84)                10164     \n",
      "                                                                 \n",
      " dense_8 (Dense)             (None, 1)                 85        \n",
      "                                                                 \n",
      "=================================================================\n",
      "Total params: 19,789\n",
      "Trainable params: 19,789\n",
      "Non-trainable params: 0\n",
      "_________________________________________________________________\n"
     ]
    }
   ],
   "source": [
    "model.summary()"
   ]
  },
  {
   "cell_type": "code",
   "execution_count": null,
   "metadata": {},
   "outputs": [],
   "source": []
  }
 ],
 "metadata": {
  "kernelspec": {
   "display_name": "cv_fr",
   "language": "python",
   "name": "cv_fr"
  },
  "language_info": {
   "codemirror_mode": {
    "name": "ipython",
    "version": 3
   },
   "file_extension": ".py",
   "mimetype": "text/x-python",
   "name": "python",
   "nbconvert_exporter": "python",
   "pygments_lexer": "ipython3",
   "version": "3.7.4"
  }
 },
 "nbformat": 4,
 "nbformat_minor": 2
}
